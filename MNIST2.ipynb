{
  "nbformat": 4,
  "nbformat_minor": 0,
  "metadata": {
    "colab": {
      "provenance": [],
      "authorship_tag": "ABX9TyPBDgGDQ/PifV+LXOETCM++",
      "include_colab_link": true
    },
    "kernelspec": {
      "name": "python3",
      "display_name": "Python 3"
    },
    "language_info": {
      "name": "python"
    }
  },
  "cells": [
    {
      "cell_type": "markdown",
      "metadata": {
        "id": "view-in-github",
        "colab_type": "text"
      },
      "source": [
        "<a href=\"https://colab.research.google.com/github/DinhKhoi038/mnist/blob/main/MNIST2.ipynb\" target=\"_parent\"><img src=\"https://colab.research.google.com/assets/colab-badge.svg\" alt=\"Open In Colab\"/></a>"
      ]
    },
    {
      "cell_type": "code",
      "execution_count": null,
      "metadata": {
        "id": "hE3hvq-xGyyw",
        "colab": {
          "base_uri": "https://localhost:8080/"
        },
        "outputId": "820a6e0e-2c51-416d-c504-2309a2228b59"
      },
      "outputs": [
        {
          "output_type": "stream",
          "name": "stdout",
          "text": [
            "Downloading data from https://storage.googleapis.com/tensorflow/tf-keras-datasets/train-labels-idx1-ubyte.gz\n",
            "29515/29515 [==============================] - 0s 0us/step\n",
            "Downloading data from https://storage.googleapis.com/tensorflow/tf-keras-datasets/train-images-idx3-ubyte.gz\n",
            "26421880/26421880 [==============================] - 0s 0us/step\n",
            "Downloading data from https://storage.googleapis.com/tensorflow/tf-keras-datasets/t10k-labels-idx1-ubyte.gz\n",
            "5148/5148 [==============================] - 0s 0us/step\n",
            "Downloading data from https://storage.googleapis.com/tensorflow/tf-keras-datasets/t10k-images-idx3-ubyte.gz\n",
            "4422102/4422102 [==============================] - 0s 0us/step\n"
          ]
        }
      ],
      "source": [
        "from keras.datasets import fashion_mnist\n",
        "(x_train, y_train), (x_test, y_test) = fashion_mnist.load_data()\n",
        "\n"
      ]
    },
    {
      "cell_type": "code",
      "source": [
        "x_train.shape"
      ],
      "metadata": {
        "colab": {
          "base_uri": "https://localhost:8080/"
        },
        "id": "rB4FTRpDHUmU",
        "outputId": "48a25397-b6a0-46f8-c657-b0200a810f32"
      },
      "execution_count": null,
      "outputs": [
        {
          "output_type": "execute_result",
          "data": {
            "text/plain": [
              "(60000, 28, 28)"
            ]
          },
          "metadata": {},
          "execution_count": 5
        }
      ]
    },
    {
      "cell_type": "code",
      "source": [
        "y_train.shape\n"
      ],
      "metadata": {
        "colab": {
          "base_uri": "https://localhost:8080/"
        },
        "id": "dJ5lrXBsHdS0",
        "outputId": "ceb73d04-f688-4454-fb89-a93b08cd501d"
      },
      "execution_count": null,
      "outputs": [
        {
          "output_type": "execute_result",
          "data": {
            "text/plain": [
              "(60000,)"
            ]
          },
          "metadata": {},
          "execution_count": 6
        }
      ]
    },
    {
      "cell_type": "code",
      "source": [
        "x_test.shape"
      ],
      "metadata": {
        "colab": {
          "base_uri": "https://localhost:8080/"
        },
        "id": "WeSiAGEiHeXQ",
        "outputId": "faaf45e4-56ad-4033-813a-cd0fc7f662f9"
      },
      "execution_count": null,
      "outputs": [
        {
          "output_type": "execute_result",
          "data": {
            "text/plain": [
              "(10000, 28, 28)"
            ]
          },
          "metadata": {},
          "execution_count": 7
        }
      ]
    },
    {
      "cell_type": "code",
      "source": [
        "y_test.shape"
      ],
      "metadata": {
        "colab": {
          "base_uri": "https://localhost:8080/"
        },
        "id": "SONkL0tAHgiH",
        "outputId": "0b980ca1-d30a-4574-d380-f0bc7d65bfb3"
      },
      "execution_count": null,
      "outputs": [
        {
          "output_type": "execute_result",
          "data": {
            "text/plain": [
              "(10000,)"
            ]
          },
          "metadata": {},
          "execution_count": 8
        }
      ]
    },
    {
      "cell_type": "code",
      "source": [
        "class_names = ['t-shirt', 'trousers', 'Pullover','Press','Coat','Sandal','shirt','sneakers','Bag','Ankel boot']"
      ],
      "metadata": {
        "id": "8Uh8mRVFILeg"
      },
      "execution_count": null,
      "outputs": []
    },
    {
      "cell_type": "code",
      "source": [
        "import matplotlib.pyplot as plt\n",
        "plt.imshow(x_train[100])\n",
        "plt.show()\n",
        "print(class_names[y_train[100]])"
      ],
      "metadata": {
        "colab": {
          "base_uri": "https://localhost:8080/",
          "height": 283
        },
        "id": "jwX9ySh0I6QV",
        "outputId": "90e0a464-f0a7-451b-b525-a1a5d5fe759e"
      },
      "execution_count": null,
      "outputs": [
        {
          "output_type": "display_data",
          "data": {
            "text/plain": [
              "<Figure size 432x288 with 1 Axes>"
            ],
            "image/png": "[encoded data removed]"
          },
          "metadata": {
            "needs_background": "light"
          }
        },
        {
          "output_type": "stream",
          "name": "stdout",
          "text": [
            "Bag\n"
          ]
        }
      ]
    },
    {
      "cell_type": "code",
      "source": [
        "#------------------------------------------\n",
        "\n",
        "from keras.layers.serialization import activation\n",
        "from keras import models\n",
        "\n",
        "from keras import layers\n",
        "model = models.Sequential()\n",
        "model.add(layers.Dense(512, activation= 'relu', input_shape=(28*28,)))\n",
        "model.add(layers.Dense(10, activation='softmax'))\n",
        "model.summary()\n",
        "\n",
        "\n",
        "\n"
      ],
      "metadata": {
        "colab": {
          "base_uri": "https://localhost:8080/"
        },
        "id": "YZCxcFvsLg4_",
        "outputId": "7e158fd0-4de3-4b68-c185-15cd5d7b8d1f"
      },
      "execution_count": null,
      "outputs": [
        {
          "output_type": "stream",
          "name": "stdout",
          "text": [
            "Model: \"sequential\"\n",
            "_________________________________________________________________\n",
            " Layer (type)                Output Shape              Param #   \n",
            "=================================================================\n",
            " dense (Dense)               (None, 512)               401920    \n",
            "                                                                 \n",
            " dense_1 (Dense)             (None, 10)                5130      \n",
            "                                                                 \n",
            "=================================================================\n",
            "Total params: 407,050\n",
            "Trainable params: 407,050\n",
            "Non-trainable params: 0\n",
            "_________________________________________________________________\n"
          ]
        }
      ]
    },
    {
      "cell_type": "code",
      "source": [
        "x_train = x_train.reshape((60000, 28*28))\n",
        "x_train = x_train.astype('float32')/255\n",
        "\n",
        "x_test = x_test.reshape((10000, 28*28))\n",
        "x_test = x_test.astype('float32')/255"
      ],
      "metadata": {
        "id": "CEyaJAVoRV5Q"
      },
      "execution_count": null,
      "outputs": []
    },
    {
      "cell_type": "code",
      "source": [
        "#One hot charactor---------------------------------\n",
        "from keras.utils import to_categorical\n",
        "y_train = to_categorical(y_train)\n",
        "Y_test = to_categorical(y_test)\n",
        "\n"
      ],
      "metadata": {
        "id": "19qgdc03MLiV"
      },
      "execution_count": null,
      "outputs": []
    },
    {
      "cell_type": "code",
      "source": [
        "from keras.metrics import metrics\n",
        "model.compile(optimizer = 'rmsprop', loss = 'categorical_crossentropy', metrics = ['accuracy'])\n",
        "model.fit(x_train, y_train, epochs  = 100, batch_size = 128)"
      ],
      "metadata": {
        "colab": {
          "base_uri": "https://localhost:8080/"
        },
        "id": "dK2mfqJWNnz2",
        "outputId": "edc041b5-1997-410e-b3a7-b4fc1602e21f"
      },
      "execution_count": null,
      "outputs": [
        {
          "output_type": "stream",
          "name": "stdout",
          "text": [
            "Epoch 1/100\n",
            "469/469 [==============================] - 6s 12ms/step - loss: 0.5603 - accuracy: 0.8014\n",
            "Epoch 2/100\n",
            "469/469 [==============================] - 5s 12ms/step - loss: 0.3818 - accuracy: 0.8604\n",
            "Epoch 3/100\n",
            "469/469 [==============================] - 5s 12ms/step - loss: 0.3385 - accuracy: 0.8760\n",
            "Epoch 4/100\n",
            "469/469 [==============================] - 5s 11ms/step - loss: 0.3129 - accuracy: 0.8853\n",
            "Epoch 5/100\n",
            "469/469 [==============================] - 5s 11ms/step - loss: 0.2921 - accuracy: 0.8917\n",
            "Epoch 6/100\n",
            "469/469 [==============================] - 6s 12ms/step - loss: 0.2776 - accuracy: 0.8972\n",
            "Epoch 7/100\n",
            "469/469 [==============================] - 5s 11ms/step - loss: 0.2639 - accuracy: 0.9032\n",
            "Epoch 8/100\n",
            "469/469 [==============================] - 5s 11ms/step - loss: 0.2545 - accuracy: 0.9056\n",
            "Epoch 9/100\n",
            "469/469 [==============================] - 5s 11ms/step - loss: 0.2437 - accuracy: 0.9095\n",
            "Epoch 10/100\n",
            "469/469 [==============================] - 5s 11ms/step - loss: 0.2344 - accuracy: 0.9130\n",
            "Epoch 11/100\n",
            "469/469 [==============================] - 5s 11ms/step - loss: 0.2271 - accuracy: 0.9162\n",
            "Epoch 12/100\n",
            "469/469 [==============================] - 7s 15ms/step - loss: 0.2183 - accuracy: 0.9193\n",
            "Epoch 13/100\n",
            "469/469 [==============================] - 6s 12ms/step - loss: 0.2117 - accuracy: 0.9218\n",
            "Epoch 14/100\n",
            "469/469 [==============================] - 5s 11ms/step - loss: 0.2044 - accuracy: 0.9252\n",
            "Epoch 15/100\n",
            "469/469 [==============================] - 5s 11ms/step - loss: 0.1993 - accuracy: 0.9254\n",
            "Epoch 16/100\n",
            "469/469 [==============================] - 5s 11ms/step - loss: 0.1926 - accuracy: 0.9279\n",
            "Epoch 17/100\n",
            "469/469 [==============================] - 5s 11ms/step - loss: 0.1873 - accuracy: 0.9304\n",
            "Epoch 18/100\n",
            "469/469 [==============================] - 5s 11ms/step - loss: 0.1821 - accuracy: 0.9332\n",
            "Epoch 19/100\n",
            "469/469 [==============================] - 5s 11ms/step - loss: 0.1771 - accuracy: 0.9343\n",
            "Epoch 20/100\n",
            "469/469 [==============================] - 5s 11ms/step - loss: 0.1716 - accuracy: 0.9368\n",
            "Epoch 21/100\n",
            "469/469 [==============================] - 5s 11ms/step - loss: 0.1685 - accuracy: 0.9380\n",
            "Epoch 22/100\n",
            "469/469 [==============================] - 5s 11ms/step - loss: 0.1629 - accuracy: 0.9405\n",
            "Epoch 23/100\n",
            "469/469 [==============================] - 6s 13ms/step - loss: 0.1604 - accuracy: 0.9408\n",
            "Epoch 24/100\n",
            "469/469 [==============================] - 5s 11ms/step - loss: 0.1554 - accuracy: 0.9427\n",
            "Epoch 25/100\n",
            "469/469 [==============================] - 5s 11ms/step - loss: 0.1497 - accuracy: 0.9451\n",
            "Epoch 26/100\n",
            "469/469 [==============================] - 5s 11ms/step - loss: 0.1479 - accuracy: 0.9452\n",
            "Epoch 27/100\n",
            "469/469 [==============================] - 5s 11ms/step - loss: 0.1435 - accuracy: 0.9487\n",
            "Epoch 28/100\n",
            "469/469 [==============================] - 5s 11ms/step - loss: 0.1406 - accuracy: 0.9497\n",
            "Epoch 29/100\n",
            "469/469 [==============================] - 5s 11ms/step - loss: 0.1378 - accuracy: 0.9503\n",
            "Epoch 30/100\n",
            "469/469 [==============================] - 5s 11ms/step - loss: 0.1365 - accuracy: 0.9503\n",
            "Epoch 31/100\n",
            "469/469 [==============================] - 5s 11ms/step - loss: 0.1332 - accuracy: 0.9514\n",
            "Epoch 32/100\n",
            "469/469 [==============================] - 5s 11ms/step - loss: 0.1290 - accuracy: 0.9528\n",
            "Epoch 33/100\n",
            "469/469 [==============================] - 5s 11ms/step - loss: 0.1264 - accuracy: 0.9542\n",
            "Epoch 34/100\n",
            "469/469 [==============================] - 5s 11ms/step - loss: 0.1252 - accuracy: 0.9559\n",
            "Epoch 35/100\n",
            "469/469 [==============================] - 5s 11ms/step - loss: 0.1231 - accuracy: 0.9556\n",
            "Epoch 36/100\n",
            "469/469 [==============================] - 5s 11ms/step - loss: 0.1228 - accuracy: 0.9562\n",
            "Epoch 37/100\n",
            "469/469 [==============================] - 5s 11ms/step - loss: 0.1192 - accuracy: 0.9572\n",
            "Epoch 38/100\n",
            "469/469 [==============================] - 5s 11ms/step - loss: 0.1156 - accuracy: 0.9587\n",
            "Epoch 39/100\n",
            "469/469 [==============================] - 5s 11ms/step - loss: 0.1134 - accuracy: 0.9597\n",
            "Epoch 40/100\n",
            "469/469 [==============================] - 5s 11ms/step - loss: 0.1107 - accuracy: 0.9613\n",
            "Epoch 41/100\n",
            "469/469 [==============================] - 5s 11ms/step - loss: 0.1099 - accuracy: 0.9615\n",
            "Epoch 42/100\n",
            "469/469 [==============================] - 5s 11ms/step - loss: 0.1080 - accuracy: 0.9621\n",
            "Epoch 43/100\n",
            "469/469 [==============================] - 5s 11ms/step - loss: 0.1045 - accuracy: 0.9632\n",
            "Epoch 44/100\n",
            "469/469 [==============================] - 5s 11ms/step - loss: 0.1041 - accuracy: 0.9624\n",
            "Epoch 45/100\n",
            "469/469 [==============================] - 5s 11ms/step - loss: 0.1006 - accuracy: 0.9649\n",
            "Epoch 46/100\n",
            "469/469 [==============================] - 5s 11ms/step - loss: 0.1016 - accuracy: 0.9643\n",
            "Epoch 47/100\n",
            "469/469 [==============================] - 5s 11ms/step - loss: 0.1013 - accuracy: 0.9654\n",
            "Epoch 48/100\n",
            "469/469 [==============================] - 5s 11ms/step - loss: 0.0972 - accuracy: 0.9661\n",
            "Epoch 49/100\n",
            "469/469 [==============================] - 5s 11ms/step - loss: 0.0970 - accuracy: 0.9667\n",
            "Epoch 50/100\n",
            "469/469 [==============================] - 5s 11ms/step - loss: 0.0937 - accuracy: 0.9676\n",
            "Epoch 51/100\n",
            "469/469 [==============================] - 5s 11ms/step - loss: 0.0924 - accuracy: 0.9677\n",
            "Epoch 52/100\n",
            "469/469 [==============================] - 5s 11ms/step - loss: 0.0951 - accuracy: 0.9677\n",
            "Epoch 53/100\n",
            "469/469 [==============================] - 5s 11ms/step - loss: 0.0925 - accuracy: 0.9675\n",
            "Epoch 54/100\n",
            "469/469 [==============================] - 5s 11ms/step - loss: 0.0874 - accuracy: 0.9696\n",
            "Epoch 55/100\n",
            "469/469 [==============================] - 5s 11ms/step - loss: 0.0878 - accuracy: 0.9695\n",
            "Epoch 56/100\n",
            "469/469 [==============================] - 5s 11ms/step - loss: 0.0868 - accuracy: 0.9696\n",
            "Epoch 57/100\n",
            "469/469 [==============================] - 5s 11ms/step - loss: 0.0871 - accuracy: 0.9697\n",
            "Epoch 58/100\n",
            "469/469 [==============================] - 5s 11ms/step - loss: 0.0846 - accuracy: 0.9711\n",
            "Epoch 59/100\n",
            "469/469 [==============================] - 5s 11ms/step - loss: 0.0846 - accuracy: 0.9712\n",
            "Epoch 60/100\n",
            "469/469 [==============================] - 5s 11ms/step - loss: 0.0796 - accuracy: 0.9722\n",
            "Epoch 61/100\n",
            "469/469 [==============================] - 5s 11ms/step - loss: 0.0803 - accuracy: 0.9732\n",
            "Epoch 62/100\n",
            "469/469 [==============================] - 6s 13ms/step - loss: 0.0817 - accuracy: 0.9726\n",
            "Epoch 63/100\n",
            "469/469 [==============================] - 5s 11ms/step - loss: 0.0795 - accuracy: 0.9738\n",
            "Epoch 64/100\n",
            "469/469 [==============================] - 6s 13ms/step - loss: 0.0782 - accuracy: 0.9739\n",
            "Epoch 65/100\n",
            "469/469 [==============================] - 5s 11ms/step - loss: 0.0751 - accuracy: 0.9744\n",
            "Epoch 66/100\n",
            "469/469 [==============================] - 5s 11ms/step - loss: 0.0731 - accuracy: 0.9752\n",
            "Epoch 67/100\n",
            "469/469 [==============================] - 5s 11ms/step - loss: 0.0769 - accuracy: 0.9748\n",
            "Epoch 68/100\n",
            "469/469 [==============================] - 5s 11ms/step - loss: 0.0736 - accuracy: 0.9758\n",
            "Epoch 69/100\n",
            "469/469 [==============================] - 5s 11ms/step - loss: 0.0721 - accuracy: 0.9759\n",
            "Epoch 70/100\n",
            "469/469 [==============================] - 5s 11ms/step - loss: 0.0753 - accuracy: 0.9756\n",
            "Epoch 71/100\n",
            "469/469 [==============================] - 5s 11ms/step - loss: 0.0710 - accuracy: 0.9767\n",
            "Epoch 72/100\n",
            "469/469 [==============================] - 5s 11ms/step - loss: 0.0726 - accuracy: 0.9761\n",
            "Epoch 73/100\n",
            "469/469 [==============================] - 5s 11ms/step - loss: 0.0707 - accuracy: 0.9769\n",
            "Epoch 74/100\n",
            "469/469 [==============================] - 5s 11ms/step - loss: 0.0700 - accuracy: 0.9773\n",
            "Epoch 75/100\n",
            "469/469 [==============================] - 5s 11ms/step - loss: 0.0686 - accuracy: 0.9777\n",
            "Epoch 76/100\n",
            "469/469 [==============================] - 5s 11ms/step - loss: 0.0687 - accuracy: 0.9777\n",
            "Epoch 77/100\n",
            "469/469 [==============================] - 5s 11ms/step - loss: 0.0688 - accuracy: 0.9785\n",
            "Epoch 78/100\n",
            "469/469 [==============================] - 5s 11ms/step - loss: 0.0684 - accuracy: 0.9780\n",
            "Epoch 79/100\n",
            "469/469 [==============================] - 5s 11ms/step - loss: 0.0703 - accuracy: 0.9775\n",
            "Epoch 80/100\n",
            "469/469 [==============================] - 5s 11ms/step - loss: 0.0655 - accuracy: 0.9785\n",
            "Epoch 81/100\n",
            "469/469 [==============================] - 5s 11ms/step - loss: 0.0661 - accuracy: 0.9790\n",
            "Epoch 82/100\n",
            "469/469 [==============================] - 5s 11ms/step - loss: 0.0651 - accuracy: 0.9787\n",
            "Epoch 83/100\n",
            "469/469 [==============================] - 5s 11ms/step - loss: 0.0654 - accuracy: 0.9794\n",
            "Epoch 84/100\n",
            "469/469 [==============================] - 5s 11ms/step - loss: 0.0627 - accuracy: 0.9799\n",
            "Epoch 85/100\n",
            "469/469 [==============================] - 5s 11ms/step - loss: 0.0607 - accuracy: 0.9808\n",
            "Epoch 86/100\n",
            "469/469 [==============================] - 5s 11ms/step - loss: 0.0602 - accuracy: 0.9807\n",
            "Epoch 87/100\n",
            "469/469 [==============================] - 5s 11ms/step - loss: 0.0617 - accuracy: 0.9805\n",
            "Epoch 88/100\n",
            "469/469 [==============================] - 5s 11ms/step - loss: 0.0618 - accuracy: 0.9806\n",
            "Epoch 89/100\n",
            "469/469 [==============================] - 5s 11ms/step - loss: 0.0601 - accuracy: 0.9812\n",
            "Epoch 90/100\n",
            "469/469 [==============================] - 5s 11ms/step - loss: 0.0598 - accuracy: 0.9818\n",
            "Epoch 91/100\n",
            "469/469 [==============================] - 5s 11ms/step - loss: 0.0573 - accuracy: 0.9822\n",
            "Epoch 92/100\n",
            "469/469 [==============================] - 5s 11ms/step - loss: 0.0582 - accuracy: 0.9808\n",
            "Epoch 93/100\n",
            "469/469 [==============================] - 5s 11ms/step - loss: 0.0598 - accuracy: 0.9814\n",
            "Epoch 94/100\n",
            "469/469 [==============================] - 5s 11ms/step - loss: 0.0548 - accuracy: 0.9825\n",
            "Epoch 95/100\n",
            "469/469 [==============================] - 5s 11ms/step - loss: 0.0587 - accuracy: 0.9822\n",
            "Epoch 96/100\n",
            "469/469 [==============================] - 5s 11ms/step - loss: 0.0560 - accuracy: 0.9821\n",
            "Epoch 97/100\n",
            "469/469 [==============================] - 5s 11ms/step - loss: 0.0560 - accuracy: 0.9822\n",
            "Epoch 98/100\n",
            "469/469 [==============================] - 5s 11ms/step - loss: 0.0566 - accuracy: 0.9821\n",
            "Epoch 99/100\n",
            "469/469 [==============================] - 5s 11ms/step - loss: 0.0536 - accuracy: 0.9833\n",
            "Epoch 100/100\n",
            "469/469 [==============================] - 5s 11ms/step - loss: 0.0568 - accuracy: 0.9827\n"
          ]
        },
        {
          "output_type": "execute_result",
          "data": {
            "text/plain": [
              "<keras.callbacks.History at 0x7f52db4400d0>"
            ]
          },
          "metadata": {},
          "execution_count": 15
        }
      ]
    },
    {
      "cell_type": "code",
      "source": [
        "from keras.utils import load_img\n",
        "from keras.utils import img_to_array\n",
        "import numpy as np\n",
        "\n",
        "img = load_img('abc.jpg', target_size = (28,28))\n",
        "plt.imshow(img)\n",
        "\n",
        "img = img_to_array(img)\n",
        "img = img.reshape(1,28,28,3)\n",
        "img = img.astype('float32')\n",
        "img = img/255\n",
        "np.argmax(model.predict(img),axis = 1)"
      ],
      "metadata": {
        "id": "UCjnPQQaUFNi"
      },
      "execution_count": null,
      "outputs": []
    },
    {
      "cell_type": "markdown",
      "source": [
        "# Mục mới"
      ],
      "metadata": {
        "id": "zefcGHNrPuSf"
      }
    },
    {
      "cell_type": "markdown",
      "source": [
        "# Mục mới"
      ],
      "metadata": {
        "id": "6XyOJCeJUrwR"
      }
    }
  ]
}